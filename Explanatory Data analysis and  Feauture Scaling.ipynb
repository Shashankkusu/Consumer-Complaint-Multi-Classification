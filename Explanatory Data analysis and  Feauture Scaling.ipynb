{
 "cells": [
  {
   "cell_type": "markdown",
   "id": "5dd806ed-3448-4c5a-a07c-49d5b5381572",
   "metadata": {},
   "source": [
    "## importing libraries:"
   ]
  },
  {
   "cell_type": "code",
   "execution_count": 2,
   "id": "15658316-11b1-4698-8a48-bfd70ff0445c",
   "metadata": {},
   "outputs": [],
   "source": [
    "import pandas as pd\n",
    "import matplotlib.pyplot as plt\n",
    "from sklearn.feature_extraction.text import TfidfVectorizer\n",
    "from imblearn.over_sampling import RandomOverSampler\n",
    "from imblearn.combine import SMOTEENN\n",
    "from imblearn.under_sampling import RandomUnderSampler"
   ]
  },
  {
   "cell_type": "markdown",
   "id": "5ae5b143-554d-4d6c-a11f-53609eaf6a6a",
   "metadata": {},
   "source": [
    "## Feauture Engineering:"
   ]
  },
  {
   "cell_type": "code",
   "execution_count": 2,
   "id": "ab006d33-4671-405b-951d-a9c0569b8ffd",
   "metadata": {},
   "outputs": [
    {
     "data": {
      "text/html": [
       "<div>\n",
       "<style scoped>\n",
       "    .dataframe tbody tr th:only-of-type {\n",
       "        vertical-align: middle;\n",
       "    }\n",
       "\n",
       "    .dataframe tbody tr th {\n",
       "        vertical-align: top;\n",
       "    }\n",
       "\n",
       "    .dataframe thead th {\n",
       "        text-align: right;\n",
       "    }\n",
       "</style>\n",
       "<table border=\"1\" class=\"dataframe\">\n",
       "  <thead>\n",
       "    <tr style=\"text-align: right;\">\n",
       "      <th></th>\n",
       "      <th>Consumer complaint narrative</th>\n",
       "      <th>Product</th>\n",
       "    </tr>\n",
       "  </thead>\n",
       "  <tbody>\n",
       "    <tr>\n",
       "      <th>0</th>\n",
       "      <td>These are not my accounts.</td>\n",
       "      <td>Credit reporting, credit repair services, or o...</td>\n",
       "    </tr>\n",
       "    <tr>\n",
       "      <th>1</th>\n",
       "      <td>Kindly address this issue on my credit report....</td>\n",
       "      <td>Credit reporting or other personal consumer re...</td>\n",
       "    </tr>\n",
       "    <tr>\n",
       "      <th>2</th>\n",
       "      <td>There are XXXX collections being reported to t...</td>\n",
       "      <td>Credit reporting or other personal consumer re...</td>\n",
       "    </tr>\n",
       "    <tr>\n",
       "      <th>3</th>\n",
       "      <td>Good day, filing this complaint to follow up m...</td>\n",
       "      <td>Credit reporting or other personal consumer re...</td>\n",
       "    </tr>\n",
       "    <tr>\n",
       "      <th>4</th>\n",
       "      <td>I am writing to have the following information...</td>\n",
       "      <td>Credit reporting or other personal consumer re...</td>\n",
       "    </tr>\n",
       "  </tbody>\n",
       "</table>\n",
       "</div>"
      ],
      "text/plain": [
       "                        Consumer complaint narrative  \\\n",
       "0                         These are not my accounts.   \n",
       "1  Kindly address this issue on my credit report....   \n",
       "2  There are XXXX collections being reported to t...   \n",
       "3  Good day, filing this complaint to follow up m...   \n",
       "4  I am writing to have the following information...   \n",
       "\n",
       "                                             Product  \n",
       "0  Credit reporting, credit repair services, or o...  \n",
       "1  Credit reporting or other personal consumer re...  \n",
       "2  Credit reporting or other personal consumer re...  \n",
       "3  Credit reporting or other personal consumer re...  \n",
       "4  Credit reporting or other personal consumer re...  "
      ]
     },
     "execution_count": 2,
     "metadata": {},
     "output_type": "execute_result"
    }
   ],
   "source": [
    "# Load the dataset (replace with your file path in Colab)\n",
    "df = pd.read_csv(r\"C:\\Users\\gowri\\Downloads\\complaints.csv\\complaints.csv\")\n",
    "\n",
    "# Keep only the required columns\n",
    "df_small = df[[\"Consumer complaint narrative\", \"Product\"]]\n",
    "\n",
    "# Drop rows where complaint narrative is missing\n",
    "df_small = df_small.dropna(subset=[\"Consumer complaint narrative\"]).reset_index(drop=True)\n",
    "\n",
    "# Save to new CSV\n",
    "df_small.to_csv(\"consumer_complaints_filtered.csv\", index=False)\n",
    "\n",
    "df_small.head()\n"
   ]
  },
  {
   "cell_type": "markdown",
   "id": "c909f35e-1ef5-4f31-adde-c9358bf2f923",
   "metadata": {},
   "source": [
    "## Loading dataframe:"
   ]
  },
  {
   "cell_type": "code",
   "execution_count": 5,
   "id": "d29d0a54-be87-4231-a278-30aea057318b",
   "metadata": {},
   "outputs": [
    {
     "data": {
      "text/html": [
       "<div>\n",
       "<style scoped>\n",
       "    .dataframe tbody tr th:only-of-type {\n",
       "        vertical-align: middle;\n",
       "    }\n",
       "\n",
       "    .dataframe tbody tr th {\n",
       "        vertical-align: top;\n",
       "    }\n",
       "\n",
       "    .dataframe thead th {\n",
       "        text-align: right;\n",
       "    }\n",
       "</style>\n",
       "<table border=\"1\" class=\"dataframe\">\n",
       "  <thead>\n",
       "    <tr style=\"text-align: right;\">\n",
       "      <th></th>\n",
       "      <th>Consumer complaint narrative</th>\n",
       "      <th>Product</th>\n",
       "    </tr>\n",
       "  </thead>\n",
       "  <tbody>\n",
       "    <tr>\n",
       "      <th>0</th>\n",
       "      <td>These are not my accounts.</td>\n",
       "      <td>Credit reporting, credit repair services, or o...</td>\n",
       "    </tr>\n",
       "    <tr>\n",
       "      <th>1</th>\n",
       "      <td>Kindly address this issue on my credit report....</td>\n",
       "      <td>Credit reporting or other personal consumer re...</td>\n",
       "    </tr>\n",
       "    <tr>\n",
       "      <th>2</th>\n",
       "      <td>There are XXXX collections being reported to t...</td>\n",
       "      <td>Credit reporting or other personal consumer re...</td>\n",
       "    </tr>\n",
       "    <tr>\n",
       "      <th>3</th>\n",
       "      <td>Good day, filing this complaint to follow up m...</td>\n",
       "      <td>Credit reporting or other personal consumer re...</td>\n",
       "    </tr>\n",
       "    <tr>\n",
       "      <th>4</th>\n",
       "      <td>I am writing to have the following information...</td>\n",
       "      <td>Credit reporting or other personal consumer re...</td>\n",
       "    </tr>\n",
       "  </tbody>\n",
       "</table>\n",
       "</div>"
      ],
      "text/plain": [
       "                        Consumer complaint narrative  \\\n",
       "0                         These are not my accounts.   \n",
       "1  Kindly address this issue on my credit report....   \n",
       "2  There are XXXX collections being reported to t...   \n",
       "3  Good day, filing this complaint to follow up m...   \n",
       "4  I am writing to have the following information...   \n",
       "\n",
       "                                             Product  \n",
       "0  Credit reporting, credit repair services, or o...  \n",
       "1  Credit reporting or other personal consumer re...  \n",
       "2  Credit reporting or other personal consumer re...  \n",
       "3  Credit reporting or other personal consumer re...  \n",
       "4  Credit reporting or other personal consumer re...  "
      ]
     },
     "execution_count": 5,
     "metadata": {},
     "output_type": "execute_result"
    }
   ],
   "source": [
    "df=pd.read_csv('consumer_complaints_filtered.csv')\n",
    "df.head()"
   ]
  },
  {
   "cell_type": "markdown",
   "id": "87ad19ed-5ab4-4558-ad05-71eb86fb6dee",
   "metadata": {},
   "source": [
    "## Missing values:"
   ]
  },
  {
   "cell_type": "code",
   "execution_count": 7,
   "id": "3cd21ada-276b-4aff-b9e9-a05d7bdc04cd",
   "metadata": {},
   "outputs": [
    {
     "name": "stdout",
     "output_type": "stream",
     "text": [
      "\n",
      "Missing values in the dataset:\n",
      "Consumer complaint narrative    0\n",
      "Product                         0\n",
      "dtype: int64\n"
     ]
    }
   ],
   "source": [
    "print(\"\\nMissing values in the dataset:\")\n",
    "missing_values = df.isnull().sum() # Replace X with df\n",
    "print(missing_values)"
   ]
  },
  {
   "cell_type": "markdown",
   "id": "d4563d72-683f-4e7f-90ad-953001a5e0a9",
   "metadata": {},
   "source": [
    "## Feature Scaling:"
   ]
  },
  {
   "cell_type": "code",
   "execution_count": 8,
   "id": "91d7e603-e65b-4727-8603-49e069fe769c",
   "metadata": {},
   "outputs": [
    {
     "name": "stdout",
     "output_type": "stream",
     "text": [
      "Unique categories in 'Product':\n",
      "1. Credit reporting, credit repair services, or other personal consumer reports\n",
      "2. Credit reporting or other personal consumer reports\n",
      "3. Credit card or prepaid card\n",
      "4. Money transfer, virtual currency, or money service\n",
      "5. Prepaid card\n",
      "6. Debt collection\n",
      "7. Credit card\n",
      "8. Payday loan, title loan, or personal loan\n",
      "9. Mortgage\n",
      "10. Checking or savings account\n",
      "11. Vehicle loan or lease\n",
      "12. Payday loan, title loan, personal loan, or advance loan\n",
      "13. Student loan\n",
      "14. Credit reporting\n",
      "15. Bank account or service\n",
      "16. Debt or credit management\n",
      "17. Consumer Loan\n",
      "18. Payday loan\n",
      "19. Money transfers\n",
      "20. Other financial service\n",
      "21. Virtual currency\n",
      "\n",
      "Total unique categories: 21\n"
     ]
    }
   ],
   "source": [
    "# Get unique categories in 'Product' column\n",
    "categories = df[\"Product\"].unique()\n",
    "\n",
    "# Print categories\n",
    "print(\"Unique categories in 'Product':\")\n",
    "for i, cat in enumerate(categories, 1):\n",
    "    print(f\"{i}. {cat}\")\n",
    "\n",
    "# Also show how many unique categories exist\n",
    "print(\"\\nTotal unique categories:\", df[\"Product\"].nunique())"
   ]
  },
  {
   "cell_type": "markdown",
   "id": "e0923404-08c4-4c39-822b-3d013b25e1f9",
   "metadata": {},
   "source": [
    "## required categories\n",
    "1. Credit reporting, credit repair services, or other personal consumer reports\n",
    "2. Credit reporting or other personal consumer reports\n",
    "14. Credit reporting\n",
    "6. Debt collection\n",
    "17. Consumer Loan\n",
    "9. Mortgage"
   ]
  },
  {
   "cell_type": "markdown",
   "id": "0e8a1531-2611-4ea6-bbe6-97168a14e0b6",
   "metadata": {},
   "source": [
    "## Assign labels"
   ]
  },
  {
   "cell_type": "code",
   "execution_count": 9,
   "id": "8987b115-b96c-4b6b-aa33-4468f25759b6",
   "metadata": {},
   "outputs": [
    {
     "name": "stdout",
     "output_type": "stream",
     "text": [
      "Dataset shape after filtering: (2750824, 2)\n",
      "Unique categories in filtered dataset: ['Credit reporting, credit repair services, or other personal consumer reports'\n",
      " 'Credit reporting or other personal consumer reports' 'Debt collection'\n",
      " 'Mortgage' 'Credit reporting' 'Consumer Loan']\n",
      "\n",
      "Sample of final dataset:\n",
      "                        Consumer complaint narrative  \\\n",
      "0                         These are not my accounts.   \n",
      "1  Kindly address this issue on my credit report....   \n",
      "2  There are XXXX collections being reported to t...   \n",
      "3  Good day, filing this complaint to follow up m...   \n",
      "4  I am writing to have the following information...   \n",
      "\n",
      "                                             Product  Label  \n",
      "0  Credit reporting, credit repair services, or o...      0  \n",
      "1  Credit reporting or other personal consumer re...      0  \n",
      "2  Credit reporting or other personal consumer re...      0  \n",
      "3  Credit reporting or other personal consumer re...      0  \n",
      "4  Credit reporting or other personal consumer re...      0  \n"
     ]
    }
   ],
   "source": [
    "# Categories you want to keep\n",
    "categories_to_keep = [\n",
    "    \"Credit reporting, credit repair services, or other personal consumer reports\",\n",
    "    \"Credit reporting or other personal consumer reports\",\n",
    "    \"Credit reporting\",\n",
    "    \"Debt collection\",\n",
    "    \"Consumer Loan\",\n",
    "    \"Mortgage\"\n",
    "]\n",
    "\n",
    "# Filter dataset for only these categories\n",
    "df_filtered = df[df[\"Product\"].isin(categories_to_keep)].reset_index(drop=True)\n",
    "\n",
    "print(\"Dataset shape after filtering:\", df_filtered.shape)\n",
    "print(\"Unique categories in filtered dataset:\", df_filtered[\"Product\"].unique())\n",
    "\n",
    "# --- Map categories into numeric labels (0–3) ---\n",
    "category_mapping = {\n",
    "    \"Credit reporting, credit repair services, or other personal consumer reports\": 0,\n",
    "    \"Credit reporting or other personal consumer reports\": 0,\n",
    "    \"Credit reporting\": 0,\n",
    "    \"Debt collection\": 1,\n",
    "    \"Consumer Loan\": 2,\n",
    "    \"Mortgage\": 3\n",
    "}\n",
    "\n",
    "# Apply mapping\n",
    "df_filtered[\"Label\"] = df_filtered[\"Product\"].map(category_mapping)\n",
    "\n",
    "# Save filtered dataset\n",
    "df_filtered.to_csv(\"consumer_complaints_classification_ready.csv\", index=False)\n",
    "\n",
    "print(\"\\nSample of final dataset:\")\n",
    "print(df_filtered.head())"
   ]
  },
  {
   "cell_type": "code",
   "execution_count": 3,
   "id": "38292c32-55be-4f7f-9a8e-1d9a6129003f",
   "metadata": {},
   "outputs": [
    {
     "data": {
      "text/html": [
       "<div>\n",
       "<style scoped>\n",
       "    .dataframe tbody tr th:only-of-type {\n",
       "        vertical-align: middle;\n",
       "    }\n",
       "\n",
       "    .dataframe tbody tr th {\n",
       "        vertical-align: top;\n",
       "    }\n",
       "\n",
       "    .dataframe thead th {\n",
       "        text-align: right;\n",
       "    }\n",
       "</style>\n",
       "<table border=\"1\" class=\"dataframe\">\n",
       "  <thead>\n",
       "    <tr style=\"text-align: right;\">\n",
       "      <th></th>\n",
       "      <th>Consumer complaint narrative</th>\n",
       "      <th>Product</th>\n",
       "      <th>Label</th>\n",
       "    </tr>\n",
       "  </thead>\n",
       "  <tbody>\n",
       "    <tr>\n",
       "      <th>0</th>\n",
       "      <td>These are not my accounts.</td>\n",
       "      <td>Credit reporting, credit repair services, or o...</td>\n",
       "      <td>0</td>\n",
       "    </tr>\n",
       "    <tr>\n",
       "      <th>1</th>\n",
       "      <td>Kindly address this issue on my credit report....</td>\n",
       "      <td>Credit reporting or other personal consumer re...</td>\n",
       "      <td>0</td>\n",
       "    </tr>\n",
       "    <tr>\n",
       "      <th>2</th>\n",
       "      <td>There are XXXX collections being reported to t...</td>\n",
       "      <td>Credit reporting or other personal consumer re...</td>\n",
       "      <td>0</td>\n",
       "    </tr>\n",
       "    <tr>\n",
       "      <th>3</th>\n",
       "      <td>Good day, filing this complaint to follow up m...</td>\n",
       "      <td>Credit reporting or other personal consumer re...</td>\n",
       "      <td>0</td>\n",
       "    </tr>\n",
       "    <tr>\n",
       "      <th>4</th>\n",
       "      <td>I am writing to have the following information...</td>\n",
       "      <td>Credit reporting or other personal consumer re...</td>\n",
       "      <td>0</td>\n",
       "    </tr>\n",
       "  </tbody>\n",
       "</table>\n",
       "</div>"
      ],
      "text/plain": [
       "                        Consumer complaint narrative  \\\n",
       "0                         These are not my accounts.   \n",
       "1  Kindly address this issue on my credit report....   \n",
       "2  There are XXXX collections being reported to t...   \n",
       "3  Good day, filing this complaint to follow up m...   \n",
       "4  I am writing to have the following information...   \n",
       "\n",
       "                                             Product  Label  \n",
       "0  Credit reporting, credit repair services, or o...      0  \n",
       "1  Credit reporting or other personal consumer re...      0  \n",
       "2  Credit reporting or other personal consumer re...      0  \n",
       "3  Credit reporting or other personal consumer re...      0  \n",
       "4  Credit reporting or other personal consumer re...      0  "
      ]
     },
     "execution_count": 3,
     "metadata": {},
     "output_type": "execute_result"
    }
   ],
   "source": [
    "df=pd.read_csv('consumer_complaints_classification_ready.csv')\n",
    "df.head()"
   ]
  },
  {
   "cell_type": "markdown",
   "id": "de49dbe2-3427-4901-a847-185416277d72",
   "metadata": {},
   "source": [
    "## check categories"
   ]
  },
  {
   "cell_type": "code",
   "execution_count": 3,
   "id": "9b832062-9c95-4159-8979-61f13b315248",
   "metadata": {},
   "outputs": [
    {
     "name": "stdout",
     "output_type": "stream",
     "text": [
      "Unique categories in 'Product':\n",
      "1. Credit reporting, credit repair services, or other personal consumer reports\n",
      "2. Credit reporting or other personal consumer reports\n",
      "3. Debt collection\n",
      "4. Mortgage\n",
      "5. Credit reporting\n",
      "6. Consumer Loan\n",
      "\n",
      "Total unique categories: 6\n"
     ]
    }
   ],
   "source": [
    "# Get unique categories in 'Product' column\n",
    "categories = df[\"Product\"].unique()\n",
    "\n",
    "# Print categories\n",
    "print(\"Unique categories in 'Product':\")\n",
    "for i, cat in enumerate(categories, 1):\n",
    "    print(f\"{i}. {cat}\")\n",
    "\n",
    "# Also show how many unique categories exist\n",
    "print(\"\\nTotal unique categories:\", df[\"Product\"].nunique())"
   ]
  },
  {
   "cell_type": "code",
   "execution_count": 4,
   "id": "491d32da-e5f1-4d91-9321-63494f613746",
   "metadata": {},
   "outputs": [
    {
     "name": "stdout",
     "output_type": "stream",
     "text": [
      "Unique labels: [0 1 3 2]\n",
      "\n",
      "Label distribution:\n",
      "Label\n",
      "0    2239288\n",
      "1     367680\n",
      "3     134395\n",
      "2       9461\n",
      "Name: count, dtype: int64\n",
      "\n",
      "Label distribution with category names:\n",
      "Label  Product                                                                     \n",
      "0      Credit reporting or other personal consumer reports                             1400424\n",
      "       Credit reporting, credit repair services, or other personal consumer reports     807277\n",
      "       Credit reporting                                                                  31587\n",
      "1      Debt collection                                                                  367680\n",
      "2      Consumer Loan                                                                      9461\n",
      "3      Mortgage                                                                         134395\n",
      "Name: count, dtype: int64\n"
     ]
    }
   ],
   "source": [
    "# Check unique labels\n",
    "print(\"Unique labels:\", df[\"Label\"].unique())\n",
    "\n",
    "# Count of each label\n",
    "print(\"\\nLabel distribution:\")\n",
    "print(df[\"Label\"].value_counts())\n",
    "\n",
    "# Count with category names for clarity\n",
    "print(\"\\nLabel distribution with category names:\")\n",
    "print(df.groupby(\"Label\")[\"Product\"].value_counts())"
   ]
  },
  {
   "cell_type": "markdown",
   "id": "2d1bf137-eb7f-411c-8109-b62078537348",
   "metadata": {},
   "source": [
    "## Visualize distribution"
   ]
  },
  {
   "cell_type": "code",
   "execution_count": 4,
   "id": "fbdb4c57-5a68-499d-a4cd-b05c83882dc6",
   "metadata": {},
   "outputs": [
    {
     "data": {
      "image/png": "[encoded data removed]",
      "text/plain": [
       "<Figure size 800x500 with 1 Axes>"
      ]
     },
     "metadata": {},
     "output_type": "display_data"
    }
   ],
   "source": [
    "# Plot histogram of label frequencies\n",
    "plt.figure(figsize=(8,5))\n",
    "df[\"Label\"].value_counts().sort_index().plot(kind=\"bar\", color=\"skyblue\", edgecolor=\"black\")\n",
    "\n",
    "# Add labels and title\n",
    "plt.xlabel(\"Label\", fontsize=12)\n",
    "plt.ylabel(\"Frequency\", fontsize=12)\n",
    "plt.title(\"Distribution of Complaint Categories (Labels)\", fontsize=14)\n",
    "plt.xticks([0,1,2,3], [\"Credit Reporting\", \"Debt Collection\", \"Consumer Loan\", \"Mortgage\"], rotation=30)\n",
    "\n",
    "# Show plot\n",
    "plt.show()"
   ]
  },
  {
   "cell_type": "markdown",
   "id": "729f1e1c-bb83-412f-ace2-8c16e6db53b1",
   "metadata": {},
   "source": [
    "## hybrid sampling"
   ]
  },
  {
   "cell_type": "code",
   "execution_count": 5,
   "id": "cf1f303b-cdc2-4ee7-88aa-bb32536aac57",
   "metadata": {},
   "outputs": [
    {
     "name": "stdout",
     "output_type": "stream",
     "text": [
      "Original distribution:\n",
      " Label\n",
      "0    2239288\n",
      "1     367680\n",
      "3     134395\n",
      "2       9461\n",
      "Name: count, dtype: int64 \n",
      "\n",
      "Balanced distribution:\n",
      " Label\n",
      "0    300000\n",
      "1    300000\n",
      "2    300000\n",
      "3    300000\n",
      "Name: count, dtype: int64\n"
     ]
    }
   ],
   "source": [
    "# Features (raw text) and labels\n",
    "X = df[[\"Consumer complaint narrative\"]]   # keep as DataFrame for resampling\n",
    "y = df[\"Label\"]\n",
    "\n",
    "print(\"Original distribution:\\n\", y.value_counts(), \"\\n\")\n",
    "\n",
    "# Step 1: Define strategy\n",
    "# Undersample large classes (0 and 1)\n",
    "under = RandomUnderSampler(sampling_strategy={0:300000, 1:300000}, random_state=42)\n",
    "\n",
    "# Oversample small classes (2 and 3)\n",
    "over = RandomOverSampler(sampling_strategy={2:300000, 3:300000}, random_state=42)\n",
    "\n",
    "# Step 2: Apply undersampling\n",
    "X_resampled, y_resampled = under.fit_resample(X, y)\n",
    "\n",
    "# Step 3: Apply oversampling\n",
    "X_resampled, y_resampled = over.fit_resample(X_resampled, y_resampled)\n",
    "\n",
    "# Step 4: Check new balanced distribution\n",
    "print(\"Balanced distribution:\\n\", pd.Series(y_resampled).value_counts())"
   ]
  },
  {
   "cell_type": "code",
   "execution_count": null,
   "id": "0b73eb16-3be5-430d-b9f6-7d00716a74a3",
   "metadata": {},
   "outputs": [],
   "source": [
    "## load final balanced dataset"
   ]
  },
  {
   "cell_type": "code",
   "execution_count": null,
   "id": "46f3ce55-8534-4eeb-b11f-95a27f78d313",
   "metadata": {},
   "outputs": [],
   "source": [
    "# Combine features and labels back into a single DataFrame\n",
    "df_resampled = pd.concat([X_resampled, pd.Series(y_resampled, name=\"Label\")], axis=1)\n",
    "\n",
    "# Save to CSV\n",
    "output_path = \"consumer_complaints_sampled.csv\"\n",
    "df_resampled.to_csv(output_path, index=False, encoding=\"utf-8\")"
   ]
  }
 ],
 "metadata": {
  "kernelspec": {
   "display_name": "Python 3 (ipykernel)",
   "language": "python",
   "name": "python3"
  },
  "language_info": {
   "codemirror_mode": {
    "name": "ipython",
    "version": 3
   },
   "file_extension": ".py",
   "mimetype": "text/x-python",
   "name": "python",
   "nbconvert_exporter": "python",
   "pygments_lexer": "ipython3",
   "version": "3.13.8"
  }
 },
 "nbformat": 4,
 "nbformat_minor": 5
}
